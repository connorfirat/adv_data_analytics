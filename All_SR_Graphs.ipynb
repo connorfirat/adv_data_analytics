{
 "cells": [
  {
   "cell_type": "code",
   "execution_count": 1,
   "id": "b384820b",
   "metadata": {},
   "outputs": [],
   "source": [
    "##Import required Google Earth Engine python packages and check if they work in python environment\n",
    "import ee\n",
    "ee.Initialize()\n",
    "import geetools\n",
    "import geemap\n",
    "import os\n",
    "from geemap import cartoee\n",
    "import matplotlib.pyplot as plt\n",
    "import pandas as pd "
   ]
  },
  {
   "cell_type": "code",
   "execution_count": 2,
   "id": "b0d77f88",
   "metadata": {},
   "outputs": [],
   "source": [
    "#import the map module that allows for attaching images to an interactive map\n",
    "Map = geemap.Map()"
   ]
  },
  {
   "cell_type": "code",
   "execution_count": 3,
   "id": "46f61005",
   "metadata": {},
   "outputs": [
    {
     "data": {
      "application/vnd.jupyter.widget-view+json": {
       "model_id": "002fc8315e9949a09abc65b94821cd52",
       "version_major": 2,
       "version_minor": 0
      },
      "text/plain": [
       "Map(center=[35.145992090816684, -85.15737972252427], controls=(WidgetControl(options=['position', 'transparent…"
      ]
     },
     "metadata": {},
     "output_type": "display_data"
    }
   ],
   "source": [
    "#Import the river boundary from the Google Earth Engine Server\n",
    "#Call in river in from a vector file saved into Google Earth Engine\n",
    "TN_River = ee.FeatureCollection(\"users/pjf927/TN_River_Main_5000m_Divide_Edit\")\n",
    "#Some function require geometry values to clip features\n",
    "TN_RiverGeom = TN_River.geometry() \n",
    "#Generate a square boundary around the river study area\n",
    "RiverBounds = TN_RiverGeom.bounds()\n",
    "\n",
    "#Call in each of the 5000 meter lengths of river\n",
    "Reach_1 = TN_River.filter(ee.Filter.eq('Reach', 1)).geometry()\n",
    "Reach_3 = TN_River.filter(ee.Filter.eq('Reach', 2)).geometry() \n",
    "Reach_2 = TN_River.filter(ee.Filter.eq('Reach', 3)).geometry() \n",
    "Reach_4 = TN_River.filter(ee.Filter.eq('Reach', 4)).geometry() \n",
    "\n",
    "#Add river boundary to the map\n",
    "Map.addLayer(Reach_1, name = 'Reach_1')\n",
    "Map.addLayer(Reach_2, name = 'Reach_2')\n",
    "Map.addLayer(Reach_3, name = 'Reach_3')\n",
    "Map.addLayer(Reach_4, name = 'Reach_4')\n",
    "#Display the images centered at the whole coverage of the vector file\n",
    "Map.centerObject(TN_River, 12);\n",
    "Map"
   ]
  },
  {
   "cell_type": "code",
   "execution_count": 4,
   "id": "37ea6908",
   "metadata": {},
   "outputs": [
    {
     "name": "stdout",
     "output_type": "stream",
     "text": [
      "            Date     Sensor  Swath_Row  Cloud_Percent\n",
      "0     1982-12-07  LANDSAT_4         36       0.036032\n",
      "1     1983-01-17  LANDSAT_4         36       0.155362\n",
      "2     1984-03-15  LANDSAT_4         36       0.187627\n",
      "3     1984-05-19  LANDSAT_5         36       0.004608\n",
      "4     1984-06-04  LANDSAT_5         36       0.019594\n",
      "...          ...        ...        ...            ...\n",
      "1009  2022-10-27  LANDSAT_9         36       0.000656\n",
      "1010  2022-11-03  LANDSAT_9         36       0.011714\n",
      "1011  2022-11-04  LANDSAT_8         36       0.021114\n",
      "1012  2022-11-19  LANDSAT_9         36       0.034967\n",
      "1013  2022-11-20  LANDSAT_8         36       0.066536\n",
      "\n",
      "[1014 rows x 4 columns]\n",
      "df_list is type:  <class 'list'>\n",
      "Dates in Imagecollection:  ['1982-12-07', '1983-01-17', '1984-03-15', '1984-05-19', '1984-06-04', '1984-06-11', '1984-06-20', '1984-06-27', '1984-09-08', '1984-10-26', '1985-03-26', '1985-04-11', '1985-04-20', '1985-08-10', '1985-10-20', '1985-12-07', '1986-01-08', '1986-01-24', '1986-03-06', '1986-03-22', '1986-03-29', '1986-04-23', '1986-04-30', '1986-06-26', '1986-07-19', '1986-09-14', '1986-09-21', '1986-10-07', '1986-10-16', '1986-12-19', '1987-02-12', '1987-04-01', '1987-04-10', '1987-04-26', '1987-05-27', '1987-05-28', '1987-06-29', '1987-09-01', '1987-10-10', '1987-10-19', '1987-10-26', '1987-11-04', '1988-01-23', '1988-01-30', '1988-02-24', '1988-03-02', '1988-03-11', '1988-03-27', '1988-04-28', '1988-05-14', '1988-05-21', '1988-05-30', '1988-06-06', '1988-06-22', '1988-07-08', '1988-07-17', '1988-07-24', '1988-08-02', '1988-08-09', '1988-08-18', '1988-08-25', '1988-09-26', '1988-10-05', '1988-10-12', '1988-11-22', '1988-11-29', '1989-01-16', '1989-02-10', '1989-04-22', '1989-05-08', '1989-05-17', '1989-05-24', '1989-06-25', '1989-08-12', '1989-10-24', '1989-11-09', '1989-12-18', '1990-04-09', '1990-04-18', '1990-04-25', '1990-05-11', '1990-05-27', '1990-06-05', '1990-06-12', '1990-06-28', '1990-07-07', '1990-07-30', '1990-08-24', '1990-09-09', '1990-09-16', '1990-09-25', '1990-10-02', '1990-10-18', '1990-10-27', '1990-11-03', '1990-11-12', '1990-12-05', '1991-01-22', '1991-02-16', '1991-02-23', '1991-03-20', '1991-05-07', '1991-06-08', '1991-07-01', '1991-08-02', '1991-09-12', '1991-09-28', '1991-10-30', '1991-11-06', '1991-12-17', '1992-01-25', '1992-02-10', '1992-04-14', '1992-04-23', '1992-05-09', '1992-07-12', '1992-07-19', '1992-09-14', '1992-09-30', '1992-10-07', '1992-10-23', '1992-11-17', '1992-12-03', '1992-12-26', '1993-01-27', '1993-02-05', '1993-02-12', '1993-03-09', '1993-04-10', '1993-04-17', '1993-06-13', '1993-07-06', '1993-07-22', '1993-07-31', '1993-08-16', '1993-09-01', '1993-10-03', '1993-10-19', '1993-11-11', '1993-11-20', '1994-03-03', '1994-03-19', '1994-04-20', '1994-04-29', '1994-05-06', '1994-05-22', '1994-05-31', '1994-07-02', '1994-07-18', '1994-08-10', '1994-08-19', '1994-08-26', '1994-09-11', '1994-09-20', '1994-10-29', '1994-11-07', '1994-11-14', '1994-11-30', '1995-01-10', '1995-01-26', '1995-02-02', '1995-02-11', '1995-04-07', '1995-04-16', '1995-05-25', '1995-06-03', '1995-07-12', '1995-08-13', '1995-08-22', '1995-09-07', '1995-09-30', '1995-10-09', '1995-10-16', '1995-10-25', '1995-11-26', '1995-12-03', '1996-01-20', '1996-03-17', '1996-04-02', '1996-04-09', '1996-04-18', '1996-04-25', '1996-05-20', '1996-06-12', '1996-06-21', '1996-06-28', '1996-08-15', '1996-09-25', '1996-10-11', '1996-11-03', '1996-12-14', '1997-01-15', '1997-03-04', '1997-03-11', '1997-04-21', '1997-05-07', '1997-05-23', '1997-07-17', '1997-07-26', '1997-08-02', '1997-08-27', '1997-09-12', '1997-09-19', '1997-10-05', '1997-12-17', '1998-01-02', '1998-02-26', '1998-03-30', '1998-05-17', '1998-05-26', '1998-06-18', '1998-06-27', '1998-07-20', '1998-08-05', '1998-08-21', '1998-09-06', '1998-10-01', '1998-10-17', '1998-11-18', '1998-12-04', '1999-01-05', '1999-02-22', '1999-03-01', '1999-03-26', '1999-04-11', '1999-05-04', '1999-05-20', '1999-06-21', '1999-07-07', '1999-07-08', '1999-07-23', '1999-07-31', '1999-08-01', '1999-08-08', '1999-08-16', '1999-08-17', '1999-09-01', '1999-09-10', '1999-09-17', '1999-09-25', '1999-09-26', '1999-10-12', '1999-10-27', '1999-10-28', '1999-11-04', '1999-11-05', '1999-11-12', '1999-11-28', '1999-11-29', '1999-12-07', '1999-12-22', '1999-12-23', '1999-12-30', '1999-12-31', '2000-01-07', '2000-01-15', '2000-02-16', '2000-02-17', '2000-03-12', '2000-03-28', '2000-04-05', '2000-04-29', '2000-05-06', '2000-05-07', '2000-05-14', '2000-05-15', '2000-05-31', '2000-06-07', '2000-06-08', '2000-06-23', '2000-06-24', '2000-07-01', '2000-07-02', '2000-07-10', '2000-07-17', '2000-08-03', '2000-08-11', '2000-08-18', '2000-08-19', '2000-09-04', '2000-09-19', '2000-09-27', '2000-09-28', '2000-10-05', '2000-10-13', '2000-10-14', '2000-10-22', '2000-11-15', '2000-11-30', '2000-12-01', '2000-12-08', '2000-12-09', '2000-12-24', '2000-12-25', '2001-01-10', '2001-01-25', '2001-01-26', '2001-02-03', '2001-02-11', '2001-02-18', '2001-02-19', '2001-02-26', '2001-03-06', '2001-03-07', '2001-03-22', '2001-03-23', '2001-04-08', '2001-04-16', '2001-04-23', '2001-05-02', '2001-05-10', '2001-05-17', '2001-05-18', '2001-06-10', '2001-06-18', '2001-07-13', '2001-08-14', '2001-08-21', '2001-08-22', '2001-09-14', '2001-09-30', '2001-10-01', '2001-10-08', '2001-10-09', '2001-10-17', '2001-10-25', '2001-11-01', '2001-11-09', '2001-11-10', '2001-11-17', '2001-11-25', '2001-11-26', '2001-12-03', '2001-12-04', '2001-12-20', '2001-12-27', '2001-12-28', '2002-01-04', '2002-01-05', '2002-01-13', '2002-02-13', '2002-02-14', '2002-02-21', '2002-03-10', '2002-04-02', '2002-04-18', '2002-06-13', '2002-06-21', '2002-06-22', '2002-06-30', '2002-07-07', '2002-07-15', '2002-07-16', '2002-07-23', '2002-07-31', '2002-08-08', '2002-08-24', '2002-09-01', '2002-09-02', '2002-09-09', '2002-11-13', '2002-11-29', '2002-12-06', '2002-12-07', '2003-01-07', '2003-01-08', '2003-01-15', '2003-02-08', '2003-03-04', '2003-03-12', '2003-04-13', '2003-04-14', '2003-04-29', '2003-04-30', '2003-05-24', '2003-06-09', '2003-06-25', '2003-07-18', '2003-07-19', '2003-07-27', '2003-08-27', '2003-09-13', '2003-09-20', '2003-09-29', '2003-10-15', '2003-10-22', '2003-10-30', '2003-11-08', '2003-12-01', '2003-12-02', '2003-12-17', '2003-12-25', '2003-12-26', '2004-01-11', '2004-02-19', '2004-02-28', '2004-03-07', '2004-03-14', '2004-03-22', '2004-04-15', '2004-04-16', '2004-04-24', '2004-05-09', '2004-06-03', '2004-06-10', '2004-07-05', '2004-07-13', '2004-07-20', '2004-07-21', '2004-07-28', '2004-08-14', '2004-09-06', '2004-09-14', '2004-09-22', '2004-09-23', '2004-10-01', '2004-10-08', '2004-10-17', '2004-10-25', '2004-11-09', '2004-11-26', '2004-12-03', '2004-12-04', '2004-12-27', '2004-12-28', '2005-01-20', '2005-01-21', '2005-02-22', '2005-03-02', '2005-03-10', '2005-03-25', '2005-04-03', '2005-04-10', '2005-04-19', '2005-05-04', '2005-05-12', '2005-05-13', '2005-05-28', '2005-06-05', '2005-06-06', '2005-06-21', '2005-07-08', '2005-07-23', '2005-07-24', '2005-07-31', '2005-08-16', '2005-09-01', '2005-09-02', '2005-09-09', '2005-09-18', '2005-10-03', '2005-10-04', '2005-10-11', '2005-10-19', '2005-10-20', '2005-10-28', '2005-11-12', '2005-11-29', '2005-12-06', '2005-12-22', '2006-01-07', '2006-01-24', '2006-03-04', '2006-03-05', '2006-04-05', '2006-04-14', '2006-05-23', '2006-05-24', '2006-05-31', '2006-06-08', '2006-06-09', '2006-06-16', '2006-06-17', '2006-07-02', '2006-07-18', '2006-07-19', '2006-08-04', '2006-09-20', '2006-09-21', '2006-10-07', '2006-10-14', '2006-10-15', '2006-10-30', '2006-10-31', '2006-11-23', '2006-11-24', '2006-12-02', '2006-12-09', '2006-12-17', '2006-12-18', '2007-01-02', '2007-01-03', '2007-01-10', '2007-01-19', '2007-01-26', '2007-01-27', '2007-02-11', '2007-02-27', '2007-02-28', '2007-03-07', '2007-03-08', '2007-03-23', '2007-04-08', '2007-04-17', '2007-05-02', '2007-05-11', '2007-05-18', '2007-05-19', '2007-05-26', '2007-06-12', '2007-06-20', '2007-06-27', '2007-06-28', '2007-07-05', '2007-07-14', '2007-07-21', '2007-07-22', '2007-08-06', '2007-08-07', '2007-08-14', '2007-08-15', '2007-08-22', '2007-08-23', '2007-09-08', '2007-09-15', '2007-09-16', '2007-09-23', '2007-11-03', '2007-11-10', '2007-12-05', '2008-01-21', '2008-02-07', '2008-02-14', '2008-03-01', '2008-03-09', '2008-03-10', '2008-03-25', '2008-04-18', '2008-05-04', '2008-05-05', '2008-05-13', '2008-06-06', '2008-06-21', '2008-06-22', '2008-07-07', '2008-07-15', '2008-07-16', '2008-07-24', '2008-08-01', '2008-08-17', '2008-09-25', '2008-09-26', '2008-10-03', '2008-10-04', '2008-10-19', '2008-10-20', '2008-10-27', '2008-10-28', '2008-11-04', '2008-11-05', '2008-11-20', '2008-11-21', '2008-12-07', '2008-12-22', '2008-12-30', '2009-01-15', '2009-01-16', '2009-01-31', '2009-02-01', '2009-02-09', '2009-02-16', '2009-02-24', '2009-03-04', '2009-03-05', '2009-03-20', '2009-04-05', '2009-04-22', '2009-05-31', '2009-06-16', '2009-06-24', '2009-06-25', '2009-08-03', '2009-09-04', '2009-09-13', '2009-09-29', '2009-11-07', '2009-11-08', '2009-11-15', '2009-11-16', '2009-12-01', '2009-12-09', '2009-12-10', '2009-12-26', '2010-01-10', '2010-01-18', '2010-02-19', '2010-02-20', '2010-02-27', '2010-03-23', '2010-03-24', '2010-03-31', '2010-04-01', '2010-04-09', '2010-04-16', '2010-04-25', '2010-05-03', '2010-05-27', '2010-06-03', '2010-06-11', '2010-06-20', '2010-06-27', '2010-08-07', '2010-08-23', '2010-09-07', '2010-09-15', '2010-09-23', '2010-09-24', '2010-10-01', '2010-10-02', '2010-10-09', '2010-10-10', '2010-10-17', '2010-11-02', '2010-11-10', '2010-11-11', '2010-11-18', '2010-11-19', '2010-11-27', '2010-12-20', '2010-12-28', '2011-01-14', '2011-01-21', '2011-01-29', '2011-02-06', '2011-02-07', '2011-02-14', '2011-03-03', '2011-03-18', '2011-04-03', '2011-04-27', '2011-05-05', '2011-05-21', '2011-05-22', '2011-05-29', '2011-05-30', '2011-06-06', '2011-06-07', '2011-06-14', '2011-06-30', '2011-07-01', '2011-07-09', '2011-08-01', '2011-08-02', '2011-08-10', '2011-08-17', '2011-08-18', '2011-08-25', '2011-08-26', '2011-09-02', '2011-09-03', '2011-09-10', '2011-09-11', '2011-09-18', '2011-10-05', '2011-10-21', '2011-10-29', '2011-11-05', '2011-11-06', '2012-01-24', '2012-02-02', '2012-03-05', '2012-03-28', '2012-04-06', '2012-04-13', '2012-04-29', '2012-05-24', '2012-06-25', '2012-07-02', '2012-08-12', '2012-10-22', '2012-10-31', '2012-11-16', '2012-12-02', '2012-12-18', '2013-01-03', '2013-01-19', '2013-03-08', '2013-03-15', '2013-03-21', '2013-04-25', '2013-05-26', '2013-05-27', '2013-06-04', '2013-06-19', '2013-07-30', '2013-08-23', '2013-09-07', '2013-09-23', '2013-10-01', '2013-10-09', '2013-10-10', '2013-10-18', '2013-10-26', '2013-11-10', '2013-11-11', '2013-11-18', '2013-12-12', '2013-12-13', '2014-01-06', '2014-01-22', '2014-01-29', '2014-01-30', '2014-02-07', '2014-02-22', '2014-02-23', '2014-03-10', '2014-03-11', '2014-03-26', '2014-04-11', '2014-04-12', '2014-04-20', '2014-05-05', '2014-05-06', '2014-06-14', '2014-06-15', '2014-06-22', '2014-07-01', '2014-07-25', '2014-09-19', '2014-10-04', '2014-10-05', '2014-10-20', '2014-10-21', '2014-11-06', '2014-11-14', '2014-11-21', '2014-11-22', '2014-12-07', '2014-12-15', '2014-12-31', '2015-01-08', '2015-01-09', '2015-01-16', '2015-01-17', '2015-01-24', '2015-01-25', '2015-03-29', '2015-04-23', '2015-05-01', '2015-05-08', '2015-05-09', '2015-06-10', '2015-06-17', '2015-06-26', '2015-07-27', '2015-07-28', '2015-08-04', '2015-08-13', '2015-08-21', '2015-09-05', '2015-09-06', '2015-09-14', '2015-09-22', '2015-10-07', '2015-10-08', '2015-10-15', '2015-10-23', '2015-12-03', '2015-12-19', '2016-01-11', '2016-01-12', '2016-01-19', '2016-01-28', '2016-02-04', '2016-02-05', '2016-02-13', '2016-02-28', '2016-03-15', '2016-03-16', '2016-04-09', '2016-04-17', '2016-04-24', '2016-04-25', '2016-05-19', '2016-05-26', '2016-06-03', '2016-06-11', '2016-06-20', '2016-06-27', '2016-07-13', '2016-07-14', '2016-07-21', '2016-07-30', '2016-08-07', '2016-08-22', '2016-08-30', '2016-08-31', '2016-09-07', '2016-09-08', '2016-09-15', '2016-09-23', '2016-09-24', '2016-10-01', '2016-10-09', '2016-10-10', '2016-10-25', '2016-10-26', '2016-11-02', '2016-11-03', '2016-11-10', '2016-11-18', '2016-11-19', '2016-11-26', '2016-12-28', '2016-12-29', '2017-01-30', '2017-03-02', '2017-03-03', '2017-03-19', '2017-04-11', '2017-04-12', '2017-04-20', '2017-05-06', '2017-05-14', '2017-05-30', '2017-06-07', '2017-06-14', '2017-07-25', '2017-08-17', '2017-09-03', '2017-09-10', '2017-09-18', '2017-09-26', '2017-09-27', '2017-10-04', '2017-10-05', '2017-10-12', '2017-10-20', '2017-10-21', '2017-11-22', '2017-11-29', '2017-12-16', '2018-01-17', '2018-01-24', '2018-01-25', '2018-02-02', '2018-02-09', '2018-02-18', '2018-03-06', '2018-03-14', '2018-03-22', '2018-04-30', '2018-05-01', '2018-05-08', '2018-05-24', '2018-06-09', '2018-06-10', '2018-06-17', '2018-06-18', '2018-06-26', '2018-07-04', '2018-07-12', '2018-07-19', '2018-07-28', '2018-08-05', '2018-08-13', '2018-08-29', '2018-09-13', '2018-09-14', '2018-09-22', '2018-09-29', '2018-10-24', '2018-11-16', '2018-11-17', '2018-12-02', '2018-12-03', '2018-12-11', '2019-01-11', '2019-01-27', '2019-01-28', '2019-02-13', '2019-03-17', '2019-04-01', '2019-04-02', '2019-04-10', '2019-04-17', '2019-06-04', '2019-06-21', '2019-06-29', '2019-08-07', '2019-08-15', '2019-08-16', '2019-08-31', '2019-09-01', '2019-09-08', '2019-09-09', '2019-09-16', '2019-09-17', '2019-09-25', '2019-10-02', '2019-10-03', '2019-10-11', '2019-10-18', '2019-11-03', '2019-11-11', '2019-11-20', '2019-11-28', '2019-12-05', '2019-12-30', '2020-01-06', '2020-01-07', '2020-02-15', '2020-03-26', '2020-04-03', '2020-04-04', '2020-04-11', '2020-04-20', '2020-04-27', '2020-04-28', '2020-05-30', '2020-06-07', '2020-06-14', '2020-07-08', '2020-07-09', '2020-07-16', '2020-07-17', '2020-08-18', '2020-09-10', '2020-09-11', '2020-10-04', '2020-10-05', '2020-10-13', '2020-10-20', '2020-11-06', '2020-11-13', '2020-11-14', '2020-11-21', '2020-12-15', '2021-02-02', '2021-02-09', '2021-02-10', '2021-02-17', '2021-02-25', '2021-03-05', '2021-03-06', '2021-03-29', '2021-03-30', '2021-05-01', '2021-05-25', '2021-06-17', '2021-06-18', '2021-06-26', '2021-07-03', '2021-07-04', '2021-07-28', '2021-09-06', '2021-09-13', '2021-09-14', '2021-09-29', '2021-10-15', '2021-10-23', '2021-10-24', '2021-11-01', '2021-11-08', '2021-11-10', '2021-11-24', '2021-11-25', '2021-12-02', '2021-12-03', '2021-12-26', '2022-01-04', '2022-01-11', '2022-01-12', '2022-01-12', '2022-01-27', '2022-02-05', '2022-02-13', '2022-02-13', '2022-02-20', '2022-02-20', '2022-02-28', '2022-03-01', '2022-03-01', '2022-03-08', '2022-03-17', '2022-04-01', '2022-04-10', '2022-05-10', '2022-05-12', '2022-06-05', '2022-06-13', '2022-06-20', '2022-06-21', '2022-07-14', '2022-07-15', '2022-07-22', '2022-07-23', '2022-08-23', '2022-08-31', '2022-09-01', '2022-09-01', '2022-09-16', '2022-09-17', '2022-09-24', '2022-10-05', '2022-10-10', '2022-10-11', '2022-10-19', '2022-10-22', '2022-10-27', '2022-11-03', '2022-11-04', '2022-11-19', '2022-11-20']\n"
     ]
    }
   ],
   "source": [
    "#Import date csv from cloud score code as a pandas dataframe\n",
    "df = pd.read_csv(r\"D:\\School\\Adv_Data_Analytics\\Project\\csv\\Cloud_Score_Acquisition_Data.csv\", index_col=0)\n",
    "print(df)\n",
    "\n",
    "#Convert a dataframe column to a list, check the data type, and print all the dates\n",
    "df_dates = df['Date'].tolist()\n",
    "print(\"df_list is type: \", type(df_dates))\n",
    "print(\"Dates in Imagecollection: \", df_dates)"
   ]
  },
  {
   "cell_type": "code",
   "execution_count": 5,
   "id": "3de091e5",
   "metadata": {},
   "outputs": [],
   "source": [
    "#Create a function that creates a new dictionary in the image collection called 'Date' and converts the 'system:time_start' list to a \"YYYY-MM-dd\" format\n",
    "def addTime(x):\n",
    "  return x.set('Date', ee.Date(x.get('system:time_start')).format(\"YYYY-MM-dd\")) #Make sure Created date list matches this format"
   ]
  },
  {
   "cell_type": "code",
   "execution_count": 6,
   "id": "7069afe3",
   "metadata": {},
   "outputs": [
    {
     "name": "stdout",
     "output_type": "stream",
     "text": [
      "Landsat 4 Images:  4\n",
      "Landsat 5 Images:  435\n",
      "Landsat 7 Images:  398\n",
      "Landsat 8 Images:  161\n",
      "Landsat 9 Images:  16\n",
      "All Cloud Filtered Surface Reflectance Images:  1014\n"
     ]
    }
   ],
   "source": [
    "#Call in all landsat imagecollections that have surface reflectance (SR) pre-calcuated \n",
    "#Call in Landsat 4 Level 2, Collection 2, Tier 1 dataset \n",
    "LS4_SR = (\n",
    "    ee.ImageCollection(\"LANDSAT/LT04/C02/T1_L2\")\n",
    "    .filterBounds(TN_River) #Filter only swath grids that cover the TN River Boundary\n",
    "    .select(['SR_B1', 'SR_B2', 'SR_B3', 'SR_B4', 'SR_B5', 'SR_B7'],['Blue', 'Green', 'Red', 'NIR', 'SWIR1', 'SWIR2']) #Assign imagery bands new names\n",
    "    .map(addTime) #Apply the mapping function to create the new dictionary list 'Date'\n",
    "    .filter(ee.Filter.eq('WRS_ROW', 36)) #Filter swath grids that completly cover the largets portion of the TN River Boundary\n",
    "    .filter(ee.Filter.inList('Date', ee.List(df_dates))) #Filter out dates from the new dictionary list called 'Date' comparing the dates from the csv imported eariler\n",
    "    .sort('system:time_start') #Sort collection by acquisition time\n",
    ")\n",
    "\n",
    "#Call in Landsat 5 Level 2, Collection 2, Tier 1 dataset \n",
    "LS5_SR = (\n",
    "    ee.ImageCollection(\"LANDSAT/LT05/C02/T1_L2\")\n",
    "    .filterBounds(TN_River) #Filter only swath grids that cover the TN River Boundary\n",
    "    .select(['SR_B1', 'SR_B2', 'SR_B3', 'SR_B4', 'SR_B5', 'SR_B7'],['Blue', 'Green', 'Red', 'NIR', 'SWIR1', 'SWIR2']) #Assign imagery bands new names\n",
    "    .map(addTime) #Apply the mapping function to create the new dictionary list 'Date'\n",
    "    .filter(ee.Filter.eq('WRS_ROW', 36)) #Filter swath grids that completly cover the largets portion of the TN River Boundary\n",
    "    .filter(ee.Filter.inList('Date', ee.List(df_dates))) #Filter out dates from the new dictionary list called 'Date' comparing the dates from the csv imported eariler   \n",
    "    .sort('system:time_start') #Sort collection by acquisition time\n",
    ")\n",
    "\n",
    "#Call in Landsat 7 Level 2, Collection 2, Tier 1 dataset \n",
    "LS7_SR = (\n",
    "    ee.ImageCollection(\"LANDSAT/LE07/C02/T1_L2\")\n",
    "    .filterBounds(TN_River) #Filter only swath grids that cover the TN River Boundary\n",
    "    .select(['SR_B1', 'SR_B2', 'SR_B3', 'SR_B4', 'SR_B5', 'SR_B7'],['Blue', 'Green', 'Red', 'NIR', 'SWIR1', 'SWIR2']) #Assign imagery bands new names\n",
    "    .map(addTime) #Apply the mapping function to create the new dictionary list 'Date'\n",
    "    .filter(ee.Filter.eq('WRS_ROW', 36)) #Filter swath grids that completly cover the largets portion of the TN River Boundary\n",
    "    .filter(ee.Filter.inList('Date', ee.List(df_dates))) #Filter out dates from the new dictionary list called 'Date' comparing the dates from the csv imported eariler \n",
    "    .sort('system:time_start') #Sort collection by acquisition time\n",
    ")\n",
    "\n",
    "#Call in Landsat 8 Level 2, Collection 2, Tier 1 dataset \n",
    "LS8_SR = (\n",
    "    ee.ImageCollection(\"LANDSAT/LC08/C02/T1_L2\")\n",
    "    .filterBounds(TN_River) #Filter only swath grids that cover the TN River Boundary\n",
    "    .select(['SR_B2', 'SR_B3', 'SR_B4', 'SR_B5', 'SR_B6', 'SR_B7'],['Blue', 'Green', 'Red', 'NIR', 'SWIR1', 'SWIR2']) #Assign imagery bands new names\n",
    "    .map(addTime)\n",
    "    .filter(ee.Filter.eq('WRS_ROW', 36)) #Filter swath grids that completly cover the largets portion of the TN River Boundary\n",
    "    .filter(ee.Filter.inList('Date', ee.List(df_dates))) #Filter out dates from the new dictionary list called 'Date' comparing the dates from the csv imported eariler \n",
    "    .sort('system:time_start') #Sort collection by acquisition time\n",
    ")\n",
    "\n",
    "#Call in Landsat 9 Level 2, Collection 2, Tier 1 dataset \n",
    "LS9_SR = (\n",
    "    ee.ImageCollection(\"LANDSAT/LC09/C02/T1_L2\")\n",
    "    .filterBounds(TN_River) #Filter only swath grids that cover the TN River Boundary\n",
    "    .select(['SR_B2', 'SR_B3', 'SR_B4', 'SR_B5', 'SR_B6', 'SR_B7'],['Blue', 'Green', 'Red', 'NIR', 'SWIR1', 'SWIR2']) #Assign imagery bands new names\n",
    "    .map(addTime) #Apply the mapping function to create the new dictionary list 'Date'\n",
    "    .filter(ee.Filter.eq('WRS_ROW', 36)) #Filter swath grids that completly cover the largets portion of the TN River Boundary\n",
    "    .filter(ee.Filter.inList('Date', ee.List(df_dates))) #Filter out dates from the new dictionary list called 'Date' comparing the dates from the csv imported eariler   \n",
    "    .sort('system:time_start') #Sort collection by acquisition time\n",
    ")\n",
    "\n",
    "#Get counts of each of image in an individual sensor's image collection\n",
    "LS4_count = LS4_SR.size().getInfo()\n",
    "print(\"Landsat 4 Images: \", LS4_count)\n",
    "\n",
    "LS5_count = LS5_SR.size().getInfo()\n",
    "print(\"Landsat 5 Images: \", LS5_count)\n",
    "\n",
    "LS7_count = LS7_SR.size().getInfo()\n",
    "print(\"Landsat 7 Images: \", LS7_count)\n",
    "\n",
    "LS8_count = LS8_SR.size().getInfo()\n",
    "print(\"Landsat 8 Images: \", LS8_count)\n",
    "\n",
    "LS9_count = LS9_SR.size().getInfo()\n",
    "print(\"Landsat 9 Images: \", LS9_count)\n",
    "\n",
    "#Merge all image collections to a newly created image collection called All_SR\n",
    "All_SR = LS4_SR.merge(LS5_SR.merge(LS7_SR.merge(LS8_SR.merge(LS9_SR)))).sort('system:time_start')\n",
    "\n",
    "#Get a count of all images filtered in the Landsat Surface Relectance Collection\n",
    "count = All_SR.size().getInfo()\n",
    "print(\"All Cloud Filtered Surface Reflectance Images: \", count)"
   ]
  },
  {
   "cell_type": "code",
   "execution_count": null,
   "id": "2b105c9f",
   "metadata": {},
   "outputs": [],
   "source": [
    "#Check to see if the sensors are organized by date, by observing back and forth changes when the sensor appears\n",
    "Sensor = All_SR.aggregate_array(\"SPACECRAFT_ID\").getInfo()\n",
    "print(Sensor)"
   ]
  },
  {
   "cell_type": "code",
   "execution_count": null,
   "id": "74fe9cad",
   "metadata": {},
   "outputs": [],
   "source": [
    "#Clip out all pixels that are IN the TN River boundary and save as a new Image Collection using the lambda function\n",
    "All_SR_Clip = All_SR.map(lambda image: image.clip(TN_River))"
   ]
  },
  {
   "cell_type": "code",
   "execution_count": null,
   "id": "33fa88f3",
   "metadata": {},
   "outputs": [],
   "source": [
    "#Create fucntion that calcualtes the NDTI index \n",
    "def NDTI(image):\n",
    "    blue = image.select('Blue') #Create a variable that selects the blue band\n",
    "    red = image.select('Red') #Create a variable that selects the red band\n",
    "    #Run the '(Red - Blue) / (Red + Blue)' equation\n",
    "    ndti = red.subtract(blue).divide(red.add(blue)).rename('NDTI') #Run the '(Red - Blue) / (Red + Blue)' equation\n",
    "    return ndti"
   ]
  },
  {
   "cell_type": "code",
   "execution_count": null,
   "id": "5c4eb677",
   "metadata": {},
   "outputs": [],
   "source": [
    "#Create fucntion that calcualtes the NSMI index \n",
    "def NSMI(image):\n",
    "    blue = image.select('Blue') #Create a variable that selects the blue band\n",
    "    green = image.select('Green') #Create a variable that selects the green band\n",
    "    red = image.select('Red') #Create a variable that selects the red band\n",
    "    #Run the '((Red + Green) - Blue) / ((Red + Green) + Blue)' equation\n",
    "    nsmi = red.add(green.subtract(blue)).divide(red.add(green.add(blue))).rename('NSMI') \n",
    "    return nsmi"
   ]
  },
  {
   "cell_type": "code",
   "execution_count": null,
   "id": "c1051004",
   "metadata": {},
   "outputs": [],
   "source": [
    "#Create fucntion that calcualtes the NDSSI index \n",
    "def NDSSI(image):\n",
    "    blue = image.select('Blue') #Create a variable that selects the blue band\n",
    "    nir = image.select('NIR') #Create a variable that selects the NIR band\n",
    "    #Run the '(Blue - NIR) / (Blue + NIR)' equation\n",
    "    ndssi = blue.subtract(nir).divide(blue.add(nir)).rename('NDSSI')\n",
    "    return ndssi"
   ]
  },
  {
   "cell_type": "code",
   "execution_count": null,
   "id": "91211c45",
   "metadata": {},
   "outputs": [],
   "source": [
    "#Create fucntion that calcualtes the Quantitative index \n",
    "def QUANT(image):\n",
    "    red = image.select('Red') #Create a variable that selects the red band\n",
    "    #Run the '2677.2 * (pow(Red, 1.856))' equation\n",
    "    quant = (red.pow(1.856)).multiply(2677.2).rename('QUANT')\n",
    "    return quant"
   ]
  },
  {
   "cell_type": "code",
   "execution_count": null,
   "id": "ec2ff8e7",
   "metadata": {},
   "outputs": [],
   "source": [
    "#Apply each equation to the clipped pixels that are in the TN River boundary\n",
    "NDTI_images = All_SR_Clip.map(NDTI)\n",
    "NSMI_images = All_SR_Clip.map(NSMI)\n",
    "NDSSI_images = All_SR_Clip.map(NDSSI)\n",
    "QUANT_images = All_SR_Clip.map(QUANT)"
   ]
  },
  {
   "cell_type": "code",
   "execution_count": null,
   "id": "ac3e81ed",
   "metadata": {},
   "outputs": [],
   "source": [
    "#Create a list that collects that orders the images so they can be mapped to the dates\n",
    "#True_list = collection.toList(collection.size())\n",
    "NDTI_list = NDTI_images.toList(All_SR_Clip.size())\n",
    "NSMI_list = NSMI_images.toList(All_SR_Clip.size())\n",
    "NDSSI_list = NDSSI_images.toList(All_SR_Clip.size())\n",
    "QUANT_list = QUANT_images.toList(All_SR_Clip.size())"
   ]
  },
  {
   "cell_type": "code",
   "execution_count": null,
   "id": "fae13213",
   "metadata": {},
   "outputs": [],
   "source": [
    "#NDTI iterate images to add map to layer, export to local directory, and export to Google Drive\n",
    "for index in range(0, count):\n",
    "    image = ee.Image(NDTI_list.get(index))\n",
    "    layer_name = \"NDTI_\" + str(df_dates[index]) + \"_\" + str(Sensor[index])\n",
    "    NDTI_file = os.path.join(r'D:\\School\\Adv_Data_Analytics\\Project\\GEE_Output_Rasters\\NDTI', layer_name + \".tif\")\n",
    "    geemap.ee_export_image(image, filename = NDTI_file, scale = 30, region = TN_RiverGeom, file_per_band = True)"
   ]
  },
  {
   "cell_type": "code",
   "execution_count": null,
   "id": "780cd5a3",
   "metadata": {},
   "outputs": [],
   "source": [
    "#NSMI iterate images to add map to layer, export to local directory, and export to Google Drive\n",
    "for index in range(0, count):\n",
    "    image = ee.Image(NSMI_list.get(index))\n",
    "    layer_name = \"NSMI_\" + str(df_dates[index]) + \"_\" + str(Sensor[index])\n",
    "    NSMI_file = os.path.join(r'D:\\School\\Adv_Data_Analytics\\Project\\GEE_Output_Rasters\\NSMI', layer_name + \".tif\")\n",
    "    geemap.ee_export_image(image, filename = NSMI_file, scale = 30, region = TN_RiverGeom, file_per_band = True)"
   ]
  },
  {
   "cell_type": "code",
   "execution_count": null,
   "id": "da1e55a9",
   "metadata": {},
   "outputs": [],
   "source": [
    "#NDSSI iterate images to add map to layer, export to local directory, and export to Google Drive\n",
    "for index in range(0, count):\n",
    "    image = ee.Image(NDSSI_list.get(index))\n",
    "    layer_name = \"NDSSI_\" + str(df_dates[index]) + \"_\" + str(Sensor[index])\n",
    "    NDSSI_file = os.path.join(r'D:\\School\\Adv_Data_Analytics\\Project\\GEE_Output_Rasters\\NDSSI', layer_name + \".tif\")\n",
    "    geemap.ee_export_image(image, filename = NDSSI_file, scale = 30, region = TN_RiverGeom, file_per_band = True)"
   ]
  },
  {
   "cell_type": "code",
   "execution_count": null,
   "id": "9c40b46b",
   "metadata": {},
   "outputs": [],
   "source": [
    "#QUANT iterate images to add map to layer, export to local directory, and export to Google Drive\n",
    "#for index in range(0, count):\n",
    "    image = ee.Image(QUANT_list.get(index))\n",
    "    layer_name = \"QUANT_\" + str(df_dates[index]) + \"_\" + str(Sensor[index])\n",
    "    #Map.addLayer(image, ndssiVis, layer_name, False)\n",
    "    QUANT_file = os.path.join(r'D:\\School\\Adv_Data_Analytics\\Project\\GEE_Output_Rasters\\QUANT', layer_name + \".tif\")\n",
    "    geemap.ee_export_image(image, filename = QUANT_file, scale = 30, region = TN_RiverGeom, file_per_band = True)\n",
    "    #geemap.ee_export_image_to_drive(image, description = layer_name, folder = 'export', scale = 30) #Takes awhile"
   ]
  },
  {
   "cell_type": "code",
   "execution_count": null,
   "id": "4506245d",
   "metadata": {},
   "outputs": [],
   "source": [
    "#Clip out all pixels that are AROUND the TN River boundary and save as a new Image Collection using the lambda function\n",
    "All_SR_Bounds = All_SR.map(lambda image: image.clip(RiverBounds))"
   ]
  },
  {
   "cell_type": "code",
   "execution_count": null,
   "id": "eece20e8",
   "metadata": {},
   "outputs": [],
   "source": [
    "#Applies scaling factors so images are better looking for displaying it graphs\n",
    "def applyScaleFactors(image):\n",
    "  opticalBands = image.select(['Blue', 'Green', 'Red', 'NIR', 'SWIR1', 'SWIR2']).multiply(0.0000275).add(-0.2)\n",
    "  return image.addBands(opticalBands, None, True) "
   ]
  },
  {
   "cell_type": "code",
   "execution_count": null,
   "id": "902e76e8",
   "metadata": {},
   "outputs": [],
   "source": [
    "#Applies the scaling factor to the image collection that has pixels AROUND the TN River boundary\n",
    "All_SR_Bounds_Scale = All_SR_Bounds.map(applyScaleFactors)"
   ]
  },
  {
   "cell_type": "code",
   "execution_count": null,
   "id": "5b015d1a",
   "metadata": {},
   "outputs": [],
   "source": [
    "#Visualization parameters to be added to a graph\n",
    "vis_params = {\n",
    "  'bands': ['Red', 'Green', 'Blue'],\n",
    "  'min': 0.0,\n",
    "  'max': 0.3,\n",
    "}"
   ]
  },
  {
   "cell_type": "code",
   "execution_count": null,
   "id": "7fc6f9ca",
   "metadata": {},
   "outputs": [],
   "source": [
    "#Set up Graph Parameters\n",
    "#The square of the study reagion in WGS84 coorinates\n",
    "region = [-85.229205793734, 35.098551952466444, -85.1004016243595, 35.216256685353386]\n",
    "\n",
    "#Size of the figure to be plotted\n",
    "fig = plt.figure(figsize=(10, 30))\n",
    "\n",
    "#Add north arrow\n",
    "north_arrow_dict = {\n",
    "    \"text\": \"N\",\n",
    "    \"xy\": (0.10, 0.9),\n",
    "    \"arrow_length\": 0.15,\n",
    "    \"text_color\": \"white\",\n",
    "    \"arrow_color\": \"white\",\n",
    "    \"fontsize\": 20,\n",
    "    \"width\": 5,\n",
    "    \"headwidth\": 15,\n",
    "    \"ha\": \"center\",\n",
    "    \"va\": \"center\",\n",
    "}\n",
    "\n",
    "#Add Scale Bar\n",
    "scale_bar_dict = {\n",
    "    \"length\": 1,\n",
    "    \"xy\": (0.1, 0.05),\n",
    "    \"linewidth\": 3,\n",
    "    \"fontsize\": 12,\n",
    "    \"color\": \"white\",\n",
    "    \"unit\": \"mile\",\n",
    "    \"ha\": \"center\",\n",
    "    \"va\": \"bottom\",\n",
    "}"
   ]
  },
  {
   "cell_type": "code",
   "execution_count": null,
   "id": "50f372ea",
   "metadata": {},
   "outputs": [],
   "source": [
    "#Test to see if visualization parameters look good and test out the north arrow and scale bar\n",
    "#Call in first image of an image collecction\n",
    "True_Image = ee.Image(All_SR_Bounds_Scale.first())\n",
    "\n",
    "#Use cartoee to get a map and create one mapping axis\n",
    "ax = cartoee.get_map(True_Image, region=region, vis_params=vis_params)\n",
    "\n",
    "#Add gridlines to the map at a specified interval\n",
    "cartoee.add_gridlines(ax, interval=[0.05, 0.05], linestyle=\":\")\n",
    "\n",
    "#Add the north arrow \n",
    "cartoee.add_north_arrow(ax, **north_arrow_dict)\n",
    "\n",
    "#Add the scale bar\n",
    "cartoee.add_scale_bar_lite(ax, **scale_bar_dict)\n",
    "\n",
    "#Add a legend that displays the colored bands\n",
    "red_patch = mpatches.Patch(color='red', label='Red Band')\n",
    "green_patch = mpatches.Patch(color='green', label='Green Band')\n",
    "blue_patch = mpatches.Patch(color='blue', label='Blue Band')\n",
    "\n",
    "#Add the lengend to the side of the map\n",
    "ax.legend(handles=[red_patch, green_patch, blue_patch], loc='center left', bbox_to_anchor=(1, 0.5))\n",
    "\n",
    "#Add the title to the top of the map\n",
    "ax.set_title(label='Above Chickamauga Dam', fontsize=15)"
   ]
  },
  {
   "cell_type": "code",
   "execution_count": null,
   "id": "88aebaec",
   "metadata": {},
   "outputs": [],
   "source": [
    "#Create a timelapse animation of all the images in the image collection with the north arrow and scale bar\n",
    "cartoee.get_image_collection_gif(\n",
    "    ee_ic = All_SR_Bounds_Scale, #call in image collection\n",
    "    out_dir = os.path.expanduser(r\"D:\\School\\Adv_Data_Analytics\\Project\\Matplot_Figures\\True_Color\\Time_Lapse_300dpi\"), #Set directory\n",
    "    out_gif = \"animation.gif\", #navisualization parameters\n",
    "    region = region, #Set the location of the study area\n",
    "    fps = 5, #Set oframes per second\n",
    "    mp4 = True, #Output an mp4 of all png image graphs\n",
    "    grid_interval = (0.2, 0.2), #Set the grid lines\n",
    "    plot_title = 'Above Chickamauga Dam', #Add a title\n",
    "    date_format = 'MM-dd-YYYY', #Set the date of the image graph\n",
    "    fig_size = (10, 8), #Set font size\n",
    "    dpi_plot = 300, #Set resolution\n",
    "    file_format = \"png\", #Output each graph as a png file\n",
    "    north_arrow_dict = north_arrow_dict, #Add in north arrow\n",
    "    scale_bar_dict = scale_bar_dict, #Add in scale bar\n",
    "    verbose = True, #display each downloaded image graph when it gets created\n",
    ")"
   ]
  }
 ],
 "metadata": {
  "kernelspec": {
   "display_name": "Python 3 (ipykernel)",
   "language": "python",
   "name": "python3"
  },
  "language_info": {
   "codemirror_mode": {
    "name": "ipython",
    "version": 3
   },
   "file_extension": ".py",
   "mimetype": "text/x-python",
   "name": "python",
   "nbconvert_exporter": "python",
   "pygments_lexer": "ipython3",
   "version": "3.9.12"
  }
 },
 "nbformat": 4,
 "nbformat_minor": 5
}
