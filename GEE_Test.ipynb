{
 "cells": [
  {
   "cell_type": "code",
   "execution_count": 9,
   "id": "9cf6a862",
   "metadata": {},
   "outputs": [],
   "source": [
    "#Import required Google Earth Engine python packages and check if they work in python environment\n",
    "import ee"
   ]
  },
  {
   "cell_type": "code",
   "execution_count": 12,
   "id": "22804d2b",
   "metadata": {},
   "outputs": [
    {
     "data": {
      "application/vnd.jupyter.widget-view+json": {
       "model_id": "13d36d56c1af4aa9b9f5274097084f15",
       "version_major": 2,
       "version_minor": 0
      },
      "text/plain": [
       "Map(center=[35.3587, -85.0323], controls=(WidgetControl(options=['position', 'transparent_bg'], widget=HBox(ch…"
      ]
     },
     "metadata": {},
     "output_type": "display_data"
    }
   ],
   "source": [
    "#Import required Google Earth Engine python packages and check if they work in python environment\n",
    "import geemap\n",
    "Map = geemap.Map()\n",
    "\n",
    "#Import Tenneessee River Boundary\n",
    "TN_River = ee.FeatureCollection(\"users/pjf927/TN_River_Sample\")\n",
    "\n",
    "#Import Sentinel Satellite Imagery\n",
    "Sentinel_2 = ee.ImageCollection('COPERNICUS/S2_SR')\n",
    "\n",
    "#Filter out only pixles in the Tennessee River, an image on a particular date, a scene without cloud cover\n",
    "image = ee.Image(Sentinel_2 \\\n",
    "                  .filterBounds(TN_River) \\\n",
    "                  .filterDate('2020-04-10', '2020-04-20') \\\n",
    "                  .sort('CLOUD_COVER') \\\n",
    "                  .first() \\\n",
    "                  .clip(TN_River))\n",
    "\n",
    "#Set the center of the map to the location of the Tennessee River\n",
    "Map.setCenter(-85.0323, 35.3587, 10)\n",
    "\n",
    "#Add the Tennessee River outline to the map\n",
    "Map.addLayer(TN_River)\n",
    "\n",
    "#Visualize only the red, green, and blue bands\n",
    "visParams = {\n",
    "  'bands':['B4','B3','B2'],\n",
    "  'min': 315.209590909109,\n",
    "  'max': 996.6863901783613\n",
    "}\n",
    "\n",
    "#Display the river image in the Map\n",
    "Map.addLayer(image, visParams, 'clipped composite')\n",
    "\n",
    "#Create a variable for each band\n",
    "blue = image.select('B2')\n",
    "green = image.select('B3')\n",
    "red = image.select('B4')\n",
    "nir = image.select('B8')\n",
    "\n",
    "#Compute the Normalized Difference Suspended Sediment Index (NDSSI)\n",
    "ndssi = blue.subtract(nir).divide(blue.add(nir)).rename('NDSSI')\n",
    "\n",
    "#Compute the Normalized Difference Turbidity Index (NDTI)\n",
    "ndti = red.subtract(blue).divide(red.add(blue)).rename('NDTI')\n",
    "\n",
    "#Compute the Normalized Suspended Material Index (NSMI)\n",
    "nsmi = red.add(green.subtract(blue)).divide(red.add(green.add(blue))).rename('NSMI')\n",
    "\n",
    "#Display the result\n",
    "ndssiParams = {'min': -0.6655212627175484, 'max': 0.36753527747273956, 'palette': ['#BF4000', '#AB552F', '#8F7D63' ,'#73A597', '#57CDCB', '#3BF5FF']}\n",
    "Map.addLayer(ndssi, ndssiParams, 'NDSSI')\n",
    "ndtiParams = {'min': -0.048428901865121526, 'max': 0.1437408950820568, 'palette': ['#3BF5FF', '#57CDCB', '#73A597', '#8F7D63', '#AB552F', '#BF4000']}\n",
    "Map.addLayer(ndti, ndtiParams, 'NDTI')\n",
    "nsmiParams = {'min': -0.37542954986424937, 'max': 0.5203360124786097, 'palette': ['#3BF5FF', '#57CDCB', '#73A597', '#8F7D63', '#AB552F', '#BF4000']}\n",
    "Map.addLayer(nsmi, nsmiParams, 'NSMI')\n",
    "Map"
   ]
  },
  {
   "cell_type": "code",
   "execution_count": null,
   "id": "8a1a3bf2",
   "metadata": {},
   "outputs": [],
   "source": []
  }
 ],
 "metadata": {
  "kernelspec": {
   "display_name": "Python 3 (ipykernel)",
   "language": "python",
   "name": "python3"
  },
  "language_info": {
   "codemirror_mode": {
    "name": "ipython",
    "version": 3
   },
   "file_extension": ".py",
   "mimetype": "text/x-python",
   "name": "python",
   "nbconvert_exporter": "python",
   "pygments_lexer": "ipython3",
   "version": "3.9.12"
  }
 },
 "nbformat": 4,
 "nbformat_minor": 5
}
